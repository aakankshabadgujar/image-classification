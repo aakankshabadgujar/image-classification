{
 "cells": [
  {
   "cell_type": "code",
   "execution_count": 61,
   "id": "8f5cc33e-d7a4-4f67-8bac-7c5ce137da2c",
   "metadata": {},
   "outputs": [],
   "source": [
    "from keras.datasets import mnist\n",
    "import matplotlib.pyplot as plt"
   ]
  },
  {
   "cell_type": "code",
   "execution_count": 69,
   "id": "b1f6d6f7-615e-4158-90a5-55a2269a2e5a",
   "metadata": {},
   "outputs": [],
   "source": [
    "#let us load the data to view it\n",
    "(x_train , y_train),(x_test, y_test) = mnist.load_data()"
   ]
  },
  {
   "cell_type": "code",
   "execution_count": 70,
   "id": "9c31e064-aef8-493d-942d-ce6f7bf14b4e",
   "metadata": {},
   "outputs": [
    {
     "data": {
      "image/png": "[encoded data removed]",
      "text/plain": [
       "<Figure size 300x300 with 1 Axes>"
      ]
     },
     "metadata": {},
     "output_type": "display_data"
    },
    {
     "data": {
      "image/png": "[encoded data removed]",
      "text/plain": [
       "<Figure size 300x300 with 1 Axes>"
      ]
     },
     "metadata": {},
     "output_type": "display_data"
    }
   ],
   "source": [
    "plt.figure(0)\n",
    "plt.imshow(x_train[1])\n",
    "#plt.title(f\"Label : {y_train[1]}\")\n",
    "plt.gcf().set_size_inches(3,3) #this is same as plt.resize((30,30))\n",
    "plt.figure(1)\n",
    "plt.imshow(x_train[5])\n",
    "#plt.title(f\"Label : {y_train[5]}\")\n",
    "plt.gcf().set_size_inches(3,3) #this is same as plt.resize((50,50))\n",
    "plt.show()\n"
   ]
  },
  {
   "cell_type": "code",
   "execution_count": 71,
   "id": "222ced9f-bc1c-44c8-8958-5c0138d7066f",
   "metadata": {},
   "outputs": [
    {
     "name": "stdout",
     "output_type": "stream",
     "text": [
      "x_train shape: (60000, 28, 28)\n",
      "y_train shape: (60000,)\n",
      "x_test shape: (10000, 28, 28)\n",
      "y_test shape: (10000,)\n"
     ]
    }
   ],
   "source": [
    "print(f\"x_train shape: {x_train.shape}\") # Should output (60000, 28, 28) \n",
    "print(f\"y_train shape: {y_train.shape}\") # Should output (60000,)\n",
    "print(f\"x_test shape: {x_test.shape}\") # Should output (10000, 28, 28)\n",
    "print(f\"y_test shape: {y_test.shape}\") # Should output (10000,)\n"
   ]
  },
  {
   "cell_type": "code",
   "execution_count": 72,
   "id": "e33dc371-9062-4c02-9c13-2fcfe90e73e0",
   "metadata": {},
   "outputs": [],
   "source": [
    "from keras.utils import to_categorical\n",
    "#let us built the input vector from 28 * 28 pixels\n",
    "x_train = x_train.reshape(x_train.shape[0], 28, 28, 1)\n",
    "x_test = x_test.reshape(x_test.shape[0], 28, 28, 1)\n",
    "x_train = x_train.astype(\"float32\")\n",
    "x_test = x_test.astype(\"float32\")\n",
    "#let us normalize the data\n",
    "x_train /= 255\n",
    "x_test /= 255\n",
    "#as this is related to input data only hence we are only taking x train and test\n",
    "#converting into one hot encoding using to_categorial\n",
    "n_classes = 10 #lets  have 10 classes\n",
    "#as only need to be converted to one hot encoding\n",
    "y_train = to_categorical(y_train,n_classes)\n",
    "y_test = to_categorical(y_test,n_classes)\n"
   ]
  },
  {
   "cell_type": "code",
   "execution_count": 73,
   "id": "7d528199-1d50-4595-88de-28aac39f6ee2",
   "metadata": {},
   "outputs": [
    {
     "name": "stdout",
     "output_type": "stream",
     "text": [
      "y_train shape after to_categorical: (60000, 10)\n",
      "y_test shape after to_categorical: (10000, 10)\n"
     ]
    }
   ],
   "source": [
    "# Verify the shapes of the converted labels\n",
    "print(f\"y_train shape after to_categorical: {y_train.shape}\") # Should output (60000, 10) \n",
    "print(f\"y_test shape after to_categorical: {y_test.shape}\") # Should output (10000, 10)"
   ]
  },
  {
   "cell_type": "code",
   "execution_count": 74,
   "id": "3c3e1d75-86bd-46bc-a88d-f42dd842cae6",
   "metadata": {},
   "outputs": [],
   "source": [
    "#let us make the CNN model now\n",
    "from keras.models import Sequential\n",
    "from keras.layers import Dense, Conv2D, Flatten, Dropout, MaxPool2D\n",
    "model = Sequential()\n",
    "#let us add some layers like Conv2d and dense and dropout\n",
    "model.add(Conv2D(filters=10, kernel_size=(3,3), activation='relu', input_shape=(28, 28, 1)))\n",
    "##nput shape should match the dimensions of shape\n",
    "model.add(MaxPool2D(pool_size = (1,1)))\n",
    "model.add(Flatten()) ##Flattenn layer to squeeze the layers into 1 dimension\n",
    "model.add(Dense(54, activation=\"relu\"))\n",
    "#Dense, feed-forward neural network(56 nodes, activation=”relu”) and for output softmax\n",
    "model.add(Dense(10, activation=\"softmax\"))"
   ]
  },
  {
   "cell_type": "code",
   "execution_count": 75,
   "id": "18c13f99-3f90-406e-abcb-82720141ca81",
   "metadata": {},
   "outputs": [],
   "source": [
    "#let us validate the made model\n",
    "model.compile(loss = \"categorical_crossentropy\", optimizer = \"adam\", metrics = [\"accuracy\"])\n"
   ]
  },
  {
   "cell_type": "code",
   "execution_count": 76,
   "id": "51dd9a00-9057-421e-a981-7f50b2d2d65d",
   "metadata": {},
   "outputs": [
    {
     "name": "stdout",
     "output_type": "stream",
     "text": [
      "Epoch 1/10\n",
      "\u001b[1m469/469\u001b[0m \u001b[32m━━━━━━━━━━━━━━━━━━━━\u001b[0m\u001b[37m\u001b[0m \u001b[1m6s\u001b[0m 11ms/step - accuracy: 0.8698 - loss: 0.4789 - val_accuracy: 0.9724 - val_loss: 0.0978\n",
      "Epoch 2/10\n",
      "\u001b[1m469/469\u001b[0m \u001b[32m━━━━━━━━━━━━━━━━━━━━\u001b[0m\u001b[37m\u001b[0m \u001b[1m6s\u001b[0m 12ms/step - accuracy: 0.9747 - loss: 0.0868 - val_accuracy: 0.9797 - val_loss: 0.0666\n",
      "Epoch 3/10\n",
      "\u001b[1m469/469\u001b[0m \u001b[32m━━━━━━━━━━━━━━━━━━━━\u001b[0m\u001b[37m\u001b[0m \u001b[1m10s\u001b[0m 12ms/step - accuracy: 0.9855 - loss: 0.0493 - val_accuracy: 0.9835 - val_loss: 0.0518\n",
      "Epoch 4/10\n",
      "\u001b[1m469/469\u001b[0m \u001b[32m━━━━━━━━━━━━━━━━━━━━\u001b[0m\u001b[37m\u001b[0m \u001b[1m6s\u001b[0m 14ms/step - accuracy: 0.9903 - loss: 0.0344 - val_accuracy: 0.9822 - val_loss: 0.0572\n",
      "Epoch 5/10\n",
      "\u001b[1m469/469\u001b[0m \u001b[32m━━━━━━━━━━━━━━━━━━━━\u001b[0m\u001b[37m\u001b[0m \u001b[1m6s\u001b[0m 13ms/step - accuracy: 0.9926 - loss: 0.0264 - val_accuracy: 0.9861 - val_loss: 0.0443\n",
      "Epoch 6/10\n",
      "\u001b[1m469/469\u001b[0m \u001b[32m━━━━━━━━━━━━━━━━━━━━\u001b[0m\u001b[37m\u001b[0m \u001b[1m5s\u001b[0m 11ms/step - accuracy: 0.9954 - loss: 0.0184 - val_accuracy: 0.9839 - val_loss: 0.0503\n",
      "Epoch 7/10\n",
      "\u001b[1m469/469\u001b[0m \u001b[32m━━━━━━━━━━━━━━━━━━━━\u001b[0m\u001b[37m\u001b[0m \u001b[1m11s\u001b[0m 12ms/step - accuracy: 0.9965 - loss: 0.0132 - val_accuracy: 0.9851 - val_loss: 0.0474\n",
      "Epoch 8/10\n",
      "\u001b[1m469/469\u001b[0m \u001b[32m━━━━━━━━━━━━━━━━━━━━\u001b[0m\u001b[37m\u001b[0m \u001b[1m6s\u001b[0m 12ms/step - accuracy: 0.9973 - loss: 0.0105 - val_accuracy: 0.9856 - val_loss: 0.0489\n",
      "Epoch 9/10\n",
      "\u001b[1m469/469\u001b[0m \u001b[32m━━━━━━━━━━━━━━━━━━━━\u001b[0m\u001b[37m\u001b[0m \u001b[1m10s\u001b[0m 12ms/step - accuracy: 0.9983 - loss: 0.0072 - val_accuracy: 0.9832 - val_loss: 0.0562\n",
      "Epoch 10/10\n",
      "\u001b[1m469/469\u001b[0m \u001b[32m━━━━━━━━━━━━━━━━━━━━\u001b[0m\u001b[37m\u001b[0m \u001b[1m5s\u001b[0m 11ms/step - accuracy: 0.9986 - loss: 0.0062 - val_accuracy: 0.9830 - val_loss: 0.0599\n"
     ]
    }
   ],
   "source": [
    "#let us now fit the train and test model into collection variable\n",
    "collection = model.fit(x_train, y_train, epochs = 10, batch_size = 128, validation_data = (x_test, y_test))"
   ]
  },
  {
   "cell_type": "code",
   "execution_count": 77,
   "id": "e1072fd0-7b26-42a0-ac2e-d984f964dab0",
   "metadata": {},
   "outputs": [],
   "source": [
    "model.save(\"mnist_classifier_model.keras\")"
   ]
  },
  {
   "cell_type": "code",
   "execution_count": 1,
   "id": "2738abae-122f-45c5-b078-7938f854a82b",
   "metadata": {},
   "outputs": [
    {
     "name": "stdout",
     "output_type": "stream",
     "text": [
      "\u001b[1m1/1\u001b[0m \u001b[32m━━━━━━━━━━━━━━━━━━━━\u001b[0m\u001b[37m\u001b[0m \u001b[1m0s\u001b[0m 203ms/step\n"
     ]
    }
   ],
   "source": [
    "#made a very simple window\n",
    "import tkinter as tk\n",
    "from tkinter import filedialog\n",
    "from PIL import Image, ImageTk\n",
    "import numpy as np\n",
    "from tensorflow.keras.models import load_model\n",
    "from tensorflow.keras.preprocessing.image import img_to_array\n",
    "\n",
    "# Load the model\n",
    "model = load_model('mnist_classifier_model.keras')\n",
    "\n",
    "# Create the Tkinter application\n",
    "root = tk.Tk()\n",
    "root.title(\"MNIST Digit Recognizer\")\n",
    "\n",
    "# Function to load and display an image\n",
    "def load_image():\n",
    "    file_path = filedialog.askopenfilename()\n",
    "    if file_path:\n",
    "        img = Image.open(file_path).convert('L')  # Convert to grayscale\n",
    "        img = img.resize((28, 28))  # Resize to 28x28 pixels\n",
    "        img_array = img_to_array(img) / 255.0  # Normalize\n",
    "        img_array = np.expand_dims(img_array, axis=0)  # Add batch dimension\n",
    "        img_array = np.expand_dims(img_array, axis=-1)  # Add channel dimension\n",
    "\n",
    "        # Make a prediction\n",
    "        prediction = model.predict(img_array)\n",
    "        predicted_label = np.argmax(prediction, axis=1)[0]\n",
    "\n",
    "        # Display the image and prediction\n",
    "        tk_img = ImageTk.PhotoImage(img)\n",
    "        img_label.config(image=tk_img)\n",
    "        img_label.image = tk_img\n",
    "        result_label.config(text=f\"Predicted Label: {predicted_label}\")\n",
    "\n",
    "# Create UI elements\n",
    "load_button = tk.Button(root, text=\"Load Image\", command=load_image)\n",
    "load_button.pack()\n",
    "\n",
    "img_label = tk.Label(root)\n",
    "img_label.pack()\n",
    "\n",
    "result_label = tk.Label(root, text=\"Predicted Label: \")\n",
    "result_label.pack()\n",
    "\n",
    "# Run the application\n",
    "root.mainloop()\n"
   ]
  },
  {
   "cell_type": "code",
   "execution_count": null,
   "id": "681538e7-8761-4ac6-919b-a4721fb7afde",
   "metadata": {},
   "outputs": [],
   "source": []
  }
 ],
 "metadata": {
  "kernelspec": {
   "display_name": "Python 3 (ipykernel)",
   "language": "python",
   "name": "python3"
  },
  "language_info": {
   "codemirror_mode": {
    "name": "ipython",
    "version": 3
   },
   "file_extension": ".py",
   "mimetype": "text/x-python",
   "name": "python",
   "nbconvert_exporter": "python",
   "pygments_lexer": "ipython3",
   "version": "3.12.3"
  }
 },
 "nbformat": 4,
 "nbformat_minor": 5
}
